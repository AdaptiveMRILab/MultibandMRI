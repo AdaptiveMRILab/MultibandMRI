{
 "cells": [
  {
   "cell_type": "code",
   "execution_count": 1,
   "metadata": {},
   "outputs": [
    {
     "name": "stdout",
     "output_type": "stream",
     "text": [
      "Found existing installation: MultibandMRI 0.1.0\n",
      "Uninstalling MultibandMRI-0.1.0:\n",
      "  Successfully uninstalled MultibandMRI-0.1.0\n",
      "Collecting git+https://github.com/AdaptiveMRILab/MultibandMRI.git\n",
      "  Cloning https://github.com/AdaptiveMRILab/MultibandMRI.git to /private/var/folders/30/x3_16p4d5j5cq5v20dn6smqm0000gq/T/pip-req-build-jj5yogd1\n",
      "  Running command git clone --filter=blob:none --quiet https://github.com/AdaptiveMRILab/MultibandMRI.git /private/var/folders/30/x3_16p4d5j5cq5v20dn6smqm0000gq/T/pip-req-build-jj5yogd1\n",
      "  Resolved https://github.com/AdaptiveMRILab/MultibandMRI.git to commit f966ebb0aba8d7b242014c7aca80c41f3695e921\n",
      "  Preparing metadata (setup.py) ... \u001b[?25ldone\n",
      "\u001b[?25hBuilding wheels for collected packages: MultibandMRI\n",
      "  Building wheel for MultibandMRI (setup.py) ... \u001b[?25ldone\n",
      "\u001b[?25h  Created wheel for MultibandMRI: filename=MultibandMRI-0.1.0-py3-none-any.whl size=6794 sha256=460c66c8f3c0758c5c1ae4eaa873f7c367c62057138747666b60d73a962e13ca\n",
      "  Stored in directory: /private/var/folders/30/x3_16p4d5j5cq5v20dn6smqm0000gq/T/pip-ephem-wheel-cache-8sb7bmnc/wheels/54/cc/03/f5b8e399de4023fd079a1dbf0b918dbad6f0787e62b15802b9\n",
      "Successfully built MultibandMRI\n",
      "Installing collected packages: MultibandMRI\n",
      "Successfully installed MultibandMRI-0.1.0\n"
     ]
    }
   ],
   "source": [
    "!pip3 uninstall -y MultibandMRI \n",
    "!pip3 install git+https://github.com/AdaptiveMRILab/MultibandMRI.git"
   ]
  },
  {
   "cell_type": "code",
   "execution_count": 2,
   "metadata": {},
   "outputs": [],
   "source": [
    "import torch \n",
    "import numpy as np \n",
    "import h5py \n",
    "import matplotlib.pyplot as plt \n",
    "from torch import Tensor\n",
    "from MultibandMRI import grappa, fft2d, ifft2d\n",
    "\n",
    "device = torch.device('cpu')"
   ]
  },
  {
   "cell_type": "code",
   "execution_count": null,
   "metadata": {},
   "outputs": [],
   "source": [
    "\n",
    "contrast = 2\n",
    "\n",
    "datapath = '/Users/nmickevicius/data/20250115_three_band_CMT/20250115_10_12_03_CMT_2D/_Series_0000/recon.h5'\n",
    "with h5py.File(datapath,'r') as F:\n",
    "    ksp = np.array(F['ksp'], dtype=np.complex64)[:,:,:,0,contrast]\n",
    "\n",
    "aliased_datapath = '/Users/nmickevicius/data/20250115_three_band_CMT/20250115_10_19_18_CMT_2D/_Series_0000/recon.h5'\n",
    "with h5py.File(aliased_datapath,'r') as F:\n",
    "    aliased_ksp = np.array(F['ksp'], dtype=np.complex64)[:,:,:,0,contrast]\n",
    "aliased_img = ifft2d(aliased_ksp, dims=(0,1)) \n",
    "aliased_rec = np.sqrt(np.sum(np.abs(aliased_img * aliased_img.conj()), axis=-1))\n",
    "# plt.figure()\n",
    "# plt.imshow(aliased_rec)\n",
    "# plt.show()\n",
    "\n",
    "img = ifft2d(ksp, dims=(0,1))\n",
    "img = np.stack([img[:,:128,:], img[:,128:256,:],img[:,256:,:]], axis=-1)\n",
    "data = fft2d(img, dims=(0,1))\n",
    "\n",
    "# add CAIPI shifts to calibration data \n",
    "data[:,1::3,:,0] = data[:,1::3,:,0] * np.exp(1j*2*np.pi/3)\n",
    "data[:,2::3,:,0] = data[:,2::3,:,0] * np.exp(1j*4*np.pi/3)\n",
    "data[:,1::3,:,2] = data[:,1::3,:,2] * np.exp(-1j*2*np.pi/3)\n",
    "data[:,2::3,:,2] = data[:,2::3,:,2] * np.exp(-1j*4*np.pi/3)\n",
    "\n",
    "nacs = 32\n",
    "i1 = int(data.shape[1]/2 - nacs/2)\n",
    "i2 = i1 + nacs \n",
    "calib_data = data[:,i1:i2,...]\n",
    "\n",
    "target = torch.tensor(calib_data.transpose(3,2,0,1), dtype=torch.complex64, device=device) \n"
   ]
  }
 ],
 "metadata": {
  "kernelspec": {
   "display_name": "matrix_mri_venv",
   "language": "python",
   "name": "python3"
  },
  "language_info": {
   "codemirror_mode": {
    "name": "ipython",
    "version": 3
   },
   "file_extension": ".py",
   "mimetype": "text/x-python",
   "name": "python",
   "nbconvert_exporter": "python",
   "pygments_lexer": "ipython3",
   "version": "3.11.4"
  }
 },
 "nbformat": 4,
 "nbformat_minor": 2
}
